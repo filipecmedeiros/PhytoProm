{
 "cells": [
  {
   "cell_type": "code",
   "execution_count": 1,
   "metadata": {},
   "outputs": [],
   "source": [
    "import numpy as np\n",
    "import pandas as pd"
   ]
  },
  {
   "cell_type": "code",
   "execution_count": 2,
   "metadata": {},
   "outputs": [],
   "source": [
    "#Coleta 5000 pares de base do promotor para cada gene do genoma de Vitis\n",
    "from intermine.webservice import Service\n",
    "service = Service(\"https://phytozome.jgi.doe.gov/phytomine/service\")\n",
    "\n",
    "query = service.new_query(\"Gene\")\n",
    "\n",
    "query.add_view(\n",
    "    \"name\", \"primaryIdentifier\", \"secondaryIdentifier\", \"length\",\n",
    "    \"flankingRegions.length\", \"flankingRegions.includeGene\",\n",
    "    \"flankingRegions.direction\", \"flankingRegions.primaryIdentifier\",\n",
    "    \"flankingRegions.sequence.length\", \"flankingRegions.sequence.residues\"\n",
    ")\n",
    "\n",
    "\n",
    "query.add_constraint(\"flankingRegions.length\", \"=\", \"5000\", code = \"A\")\n",
    "query.add_constraint(\"flankingRegions.includeGene\", \"=\", \"false\", code = \"B\")\n",
    "query.add_constraint(\"flankingRegions.direction\", \"=\", \"upstream\", code = \"C\")\n",
    "query.add_constraint(\"Gene.organism.shortName\", \"=\", \"V. vinifera\", code = \"D\")\n",
    "\n",
    "with open (\"promotores de vitis vinifera.txt\", \"w\") as promotores:\n",
    "    for row in query.rows():\n",
    "        promotores.write(str(row[\"primaryIdentifier\"])+' '+\\\n",
    "                         str(row[\"flankingRegions.length\"])+' '+\\\n",
    "                         str(row[\"flankingRegions.direction\"])+' '+\\\n",
    "                         str(row[\"flankingRegions.sequence.residues\"][4000:])+'\\n')"
   ]
  }
 ],
 "metadata": {
  "kernelspec": {
   "display_name": "Python 3",
   "language": "python",
   "name": "python3"
  },
  "language_info": {
   "codemirror_mode": {
    "name": "ipython",
    "version": 3
   },
   "file_extension": ".py",
   "mimetype": "text/x-python",
   "name": "python",
   "nbconvert_exporter": "python",
   "pygments_lexer": "ipython3",
   "version": "3.6.6"
  }
 },
 "nbformat": 4,
 "nbformat_minor": 2
}
