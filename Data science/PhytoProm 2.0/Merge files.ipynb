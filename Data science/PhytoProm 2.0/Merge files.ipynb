{
 "cells": [
  {
   "cell_type": "code",
   "execution_count": 1,
   "metadata": {},
   "outputs": [],
   "source": [
    "import pandas as pd"
   ]
  },
  {
   "cell_type": "code",
   "execution_count": 2,
   "metadata": {},
   "outputs": [],
   "source": [
    "species = ['Glycine max', 'Vigna unguiculata', 'Vitis vinifera', 'Phaseolus vulgaris', 'Medicago truncatula',\n",
    "          'Trifolium pratense', 'Arabidopsis thaliana', 'Ricinus communis', 'Oryza sativa', 'Zea mays',\n",
    "          'Physcomitrella patens', 'Hordeum vulgare', 'Manihot esculenta']"
   ]
  },
  {
   "cell_type": "code",
   "execution_count": 3,
   "metadata": {},
   "outputs": [
    {
     "name": "stderr",
     "output_type": "stream",
     "text": [
      "/home/filipe/workspace/PhytoProm/venv/lib/python3.6/site-packages/IPython/core/interactiveshell.py:2785: DtypeWarning: Columns (3) have mixed types. Specify dtype option on import or set low_memory=False.\n",
      "  interactivity=interactivity, compiler=compiler, result=result)\n"
     ]
    }
   ],
   "source": [
    "for specie in species:\n",
    "    part = 1\n",
    "    file = pd.read_csv('Logs/{} genome Log - part {}.csv'.format(specie, part))\n",
    "    \n",
    "    while part > 0:\n",
    "        try:\n",
    "            aux = pd.read_csv('Logs/{} genome Log - part {}.csv'.format(specie, part))\n",
    "            file = pd.concat([file, aux], axis=0, ignore_index=True)\n",
    "            part = part+1\n",
    "        except Exception:\n",
    "            part = 'final'\n",
    "            aux = pd.read_csv('Logs/{} genome Log - part {}.csv'.format(specie, part))\n",
    "            file = pd.concat([file, aux], axis=0, ignore_index=True)\n",
    "            part = -1\n",
    "    \n",
    "    file.to_csv('Merged Logs/{} genome.csv'.format(specie))"
   ]
  }
 ],
 "metadata": {
  "kernelspec": {
   "display_name": "Python 3",
   "language": "python",
   "name": "python3"
  },
  "language_info": {
   "codemirror_mode": {
    "name": "ipython",
    "version": 3
   },
   "file_extension": ".py",
   "mimetype": "text/x-python",
   "name": "python",
   "nbconvert_exporter": "python",
   "pygments_lexer": "ipython3",
   "version": "3.6.6"
  }
 },
 "nbformat": 4,
 "nbformat_minor": 2
}
